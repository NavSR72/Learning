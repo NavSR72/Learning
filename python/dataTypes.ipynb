{
 "cells": [
  {
   "cell_type": "markdown",
   "id": "8856fa8c",
   "metadata": {},
   "source": [
    "# Python Built-in Data Types\n",
    "Python has several built-in data types. Here are some of the most common ones:"
   ]
  },
  {
   "cell_type": "markdown",
   "id": "4f997d3e",
   "metadata": {},
   "source": [
    "## i) NoneType\n",
    "This is a special data type that represents the absence of a value. It is similar to null in other languages."
   ]
  },
  {
   "cell_type": "code",
   "execution_count": null,
   "id": "8ff6aa14",
   "metadata": {},
   "outputs": [],
   "source": [
    "a = None\n",
    "print(type(a))"
   ]
  },
  {
   "cell_type": "markdown",
   "id": "eecd8674",
   "metadata": {},
   "source": [
    "## ii) Numbers\n",
    "These can be integers, floating-point numbers, or complex numbers."
   ]
  },
  {
   "cell_type": "code",
   "execution_count": null,
   "id": "3067bf07",
   "metadata": {},
   "outputs": [],
   "source": [
    "a = 5\n",
    "print(type(a))"
   ]
  },
  {
   "cell_type": "code",
   "execution_count": null,
   "id": "43db8f42",
   "metadata": {},
   "outputs": [],
   "source": [
    "num = 2.5\n",
    "print(type(num))"
   ]
  },
  {
   "cell_type": "code",
   "execution_count": null,
   "id": "37817e8d",
   "metadata": {},
   "outputs": [],
   "source": [
    "num = 2 + 9j\n",
    "print(type(num))"
   ]
  },
  {
   "cell_type": "code",
   "execution_count": 1,
   "id": "7d7b962b",
   "metadata": {},
   "outputs": [
    {
     "name": "stdout",
     "output_type": "stream",
     "text": [
      "<class 'int'>\n",
      "<class 'float'>\n",
      "<class 'complex'>\n"
     ]
    }
   ],
   "source": [
    "#type conversion:\n",
    "a = 5.6\n",
    "b = int(a)\n",
    "print(type(b))\n",
    "\n",
    "k = float(b)\n",
    "print(type(k))\n",
    "\n",
    "c = complex(4, 5)\n",
    "print(type(c))"
   ]
  },
  {
   "cell_type": "markdown",
   "id": "cc2b9391",
   "metadata": {},
   "source": [
    "## iii) Booleans\n",
    "These are values that represent True or False."
   ]
  },
  {
   "cell_type": "code",
   "execution_count": null,
   "id": "7c829967",
   "metadata": {},
   "outputs": [],
   "source": [
    "a = True\n",
    "print(type(a))\n",
    "\n",
    "bool_val = 3 < 5\n",
    "print(bool_val)\n",
    "print(type(bool_val))"
   ]
  },
  {
   "cell_type": "markdown",
   "id": "a0e07cee",
   "metadata": {},
   "source": [
    "## Sequence Data Types\n",
    "List, Tuple, Set, String, Range."
   ]
  },
  {
   "cell_type": "markdown",
   "id": "08db9420",
   "metadata": {},
   "source": [
    "## iv) List\n",
    "A list is a collection of ordered and mutable elements enclosed in square brackets.\n",
    "\n",
    "#List in Python - Has lot of built-in methods, can be accessed like array, can have different data types, can have list within a list, mutable(values can be modified after declaring)"
   ]
  },
  {
   "cell_type": "code",
   "execution_count": 10,
   "id": "9a1e31df",
   "metadata": {},
   "outputs": [
    {
     "name": "stdout",
     "output_type": "stream",
     "text": [
      "<class 'list'>\n",
      "[1, 2, 4, 5, 6, 12]\n"
     ]
    }
   ],
   "source": [
    "lst = [25, 36, 45, 12]\n",
    "print(type(lst))\n",
    "nums = [1,2,3,4,5,6]\n",
    "nums.append(12)\n",
    "nums.remove(3)\n",
    "print(nums)"
   ]
  },
  {
   "cell_type": "markdown",
   "id": "9fdad758",
   "metadata": {},
   "source": [
    "## v) Tuple\n",
    "A tuple is a collection of ordered and immutable elements enclosed in parentheses.\n",
    "\n",
    "#Tuple - immutable, faster execution since values cannot be changed"
   ]
  },
  {
   "cell_type": "code",
   "execution_count": 11,
   "id": "d15cb901",
   "metadata": {},
   "outputs": [
    {
     "name": "stdout",
     "output_type": "stream",
     "text": [
      "<class 'tuple'>\n",
      "(12, 3, 44, 5, 3, 'naveen')\n",
      "2\n"
     ]
    }
   ],
   "source": [
    "t = (25, 36, 45, 12, 7)\n",
    "print(type(t))\n",
    "tup = (12,3,44,5,3,\"naveen\")\n",
    "print(tup)\n",
    "print(tup.count(3))"
   ]
  },
  {
   "cell_type": "markdown",
   "id": "3cae5e37",
   "metadata": {},
   "source": [
    "## vi) Set\n",
    "A set is an unordered collection of unique elements enclosed in curly braces.\n",
    "\n",
    "#Set - It uses hash, it will not follow sequence, so we cant index"
   ]
  },
  {
   "cell_type": "code",
   "execution_count": 12,
   "id": "03a462c9",
   "metadata": {},
   "outputs": [
    {
     "name": "stdout",
     "output_type": "stream",
     "text": [
      "<class 'set'>\n",
      "{25, 12, 45, 36}\n",
      "{1, 2, 3, 34, 4, 6, 'naveen', 35, 12, 'k'}\n"
     ]
    }
   ],
   "source": [
    "s = {25, 36, 45, 12, 25, 36}\n",
    "print(type(s))\n",
    "print(s)\n",
    "egSetVariable = {12,34,2,3,6,3,4,\"k\",1,\"naveen\"}\n",
    "egSetVariable.add(35)\n",
    "print(egSetVariable)"
   ]
  },
  {
   "cell_type": "markdown",
   "id": "de0422a4",
   "metadata": {},
   "source": [
    "## vii) String\n",
    "A string is a sequence of characters enclosed in single or double quotes. Strings are immutable."
   ]
  },
  {
   "cell_type": "code",
   "execution_count": 6,
   "id": "0761f21c",
   "metadata": {},
   "outputs": [
    {
     "name": "stdout",
     "output_type": "stream",
     "text": [
      "<class 'str'>\n",
      "<class 'str'>\n"
     ]
    }
   ],
   "source": [
    "str_val = \"hello\"\n",
    "print(type(str_val))\n",
    "\n",
    "st = 'a'\n",
    "print(type(st))"
   ]
  },
  {
   "cell_type": "markdown",
   "id": "ae6ca53c",
   "metadata": {},
   "source": [
    "## viii) Range\n",
    "A range is a sequence of numbers that is immutable and iterable."
   ]
  },
  {
   "cell_type": "code",
   "execution_count": 7,
   "id": "57c9c881",
   "metadata": {},
   "outputs": [
    {
     "name": "stdout",
     "output_type": "stream",
     "text": [
      "<class 'range'>\n",
      "[2, 4, 6, 8]\n"
     ]
    }
   ],
   "source": [
    "r = range(10)\n",
    "print(type(r))\n",
    "print(list(range(2, 10, 2)))"
   ]
  },
  {
   "cell_type": "markdown",
   "id": "737d6d0e",
   "metadata": {},
   "source": [
    "## ix) Dictionary\n",
    "A dictionary is a collection of key-value pairs enclosed in curly braces. it can have multiple data types within it, example below"
   ]
  },
  {
   "cell_type": "code",
   "execution_count": 13,
   "id": "2fff660f",
   "metadata": {},
   "outputs": [
    {
     "name": "stdout",
     "output_type": "stream",
     "text": [
      "<class 'dict'>\n",
      "Stella\n",
      "Atom\n",
      "['Pycharm', 'Sublime']\n",
      "Netbeans\n"
     ]
    }
   ],
   "source": [
    "d = {1: 'a', 2: 'b', 3: 'c'}\n",
    "print(type(d))\n",
    "data = {1:\"Naveen\",2:\"Stella\",3:\"Ramu\"}\n",
    "print(data.get(2))\n",
    "prog = {'JS' : 'Atom', 'CS' : 'VS' , 'Python' : ['Pycharm' , 'Sublime' ] , 'Java' : { 'JSE': 'Netbeans', 'JEE': 'Eclipse' } }\n",
    "print(prog ['JS'])\n",
    "print(prog ['Python'])\n",
    "print(prog['Java']['JSE'])\n",
    "\n"
   ]
  }
 ],
 "metadata": {
  "kernelspec": {
   "display_name": "Python 3",
   "language": "python",
   "name": "python3"
  },
  "language_info": {
   "codemirror_mode": {
    "name": "ipython",
    "version": 3
   },
   "file_extension": ".py",
   "mimetype": "text/x-python",
   "name": "python",
   "nbconvert_exporter": "python",
   "pygments_lexer": "ipython3",
   "version": "3.12.1"
  }
 },
 "nbformat": 4,
 "nbformat_minor": 5
}
