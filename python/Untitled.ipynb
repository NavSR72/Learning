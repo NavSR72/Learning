{
 "cells": [
  {
   "cell_type": "code",
   "execution_count": 6,
   "id": "713ffb76-499f-4bdf-a48a-02702248c155",
   "metadata": {},
   "outputs": [],
   "source": [
    "#List in Python - Has lot of built-in methods, can be accessed like array,\n",
    "#can have different data types, can have list within a list, mutable(values can be modified after declaring)"
   ]
  },
  {
   "cell_type": "code",
   "execution_count": 11,
   "id": "8419b8dc-9d69-4d8a-8708-7c287d762306",
   "metadata": {},
   "outputs": [
    {
     "name": "stdout",
     "output_type": "stream",
     "text": [
      "[1, 2, 4, 5, 6, 12]\n"
     ]
    }
   ],
   "source": [
    "nums = [1,2,3,4,5,6]\n",
    "nums.append(12)\n",
    "nums.remove(3)\n",
    "print(nums)"
   ]
  },
  {
   "cell_type": "code",
   "execution_count": 7,
   "id": "8a95ffaf-9ae3-4876-8272-ea92aaffb9dd",
   "metadata": {},
   "outputs": [],
   "source": [
    "#Tuple - immutable, faster execution since values cannot be changed"
   ]
  },
  {
   "cell_type": "code",
   "execution_count": null,
   "id": "b712dca7-5deb-49e1-b1b6-27afde32f3ec",
   "metadata": {},
   "outputs": [
    {
     "name": "stdout",
     "output_type": "stream",
     "text": [
      "(12, 3, 44, 5, 3, 'naveen')\n",
      "2\n"
     ]
    }
   ],
   "source": [
    "tup = (12,3,44,5,3,\"naveen\")\n",
    "print(tup)\n",
    "print(tup.count(3))"
   ]
  },
  {
   "cell_type": "code",
   "execution_count": 1,
   "id": "62f96773-d9e3-4628-b73e-aad88d2388f7",
   "metadata": {},
   "outputs": [],
   "source": [
    "#Set - It uses hash, it will not follow sequence, so we cant index"
   ]
  },
  {
   "cell_type": "code",
   "execution_count": 13,
   "id": "84986485-f8d2-4df8-9704-2b001286de36",
   "metadata": {},
   "outputs": [
    {
     "name": "stdout",
     "output_type": "stream",
     "text": [
      "{1, 2, 3, 34, 4, 6, 35, 12, 'k', 'naveen'}\n"
     ]
    }
   ],
   "source": [
    "egSetVariable = {12,34,2,3,6,3,4,\"k\",1,\"naveen\"}\n",
    "egSetVariable.add(35)\n",
    "print(egSetVariable)"
   ]
  },
  {
   "cell_type": "code",
   "execution_count": null,
   "id": "37bd70b5-b117-4a19-9f37-413665a27316",
   "metadata": {},
   "outputs": [],
   "source": [
    "#dictionary is a key value data type, it can have multiple data types within it, example below"
   ]
  },
  {
   "cell_type": "code",
   "execution_count": 26,
   "id": "8b6fb299",
   "metadata": {},
   "outputs": [
    {
     "name": "stdout",
     "output_type": "stream",
     "text": [
      "Stella\n",
      "Atom\n",
      "['Pycharm', 'Sublime']\n",
      "Netbeans\n"
     ]
    }
   ],
   "source": [
    "data = {1:\"Naveen\",2:\"Stella\",3:\"Ramu\"}\n",
    "print(data.get(2))\n",
    "prog = {'JS' : 'Atom', 'CS' : 'VS' , 'Python' : ['Pycharm' , 'Sublime' ] , 'Java' : { 'JSE': 'Netbeans', 'JEE': 'Eclipse' } }\n",
    "print(prog ['JS'])\n",
    "print(prog ['Python'])\n",
    "print(prog['Java']['JSE'])\n",
    "\n"
   ]
  }
 ],
 "metadata": {
  "kernelspec": {
   "display_name": "Python 3",
   "language": "python",
   "name": "python3"
  },
  "language_info": {
   "codemirror_mode": {
    "name": "ipython",
    "version": 3
   },
   "file_extension": ".py",
   "mimetype": "text/x-python",
   "name": "python",
   "nbconvert_exporter": "python",
   "pygments_lexer": "ipython3",
   "version": "3.12.1"
  }
 },
 "nbformat": 4,
 "nbformat_minor": 5
}
